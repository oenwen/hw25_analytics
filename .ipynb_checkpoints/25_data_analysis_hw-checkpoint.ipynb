{
 "cells": [
  {
   "cell_type": "code",
   "execution_count": 11,
   "metadata": {},
   "outputs": [],
   "source": [
    "import pandas as pd"
   ]
  },
  {
   "cell_type": "code",
   "execution_count": 21,
   "metadata": {},
   "outputs": [],
   "source": [
    "def count_top3(years):    \n",
    "    \n",
    "    df_res = pd.DataFrame({'Name': [], 'Gender': [], 'Quantity': [], 'Year': []})    \n",
    "    \n",
    "    for year in years:       \n",
    "        path = 'names/yob{}.txt'.format(int(year))\n",
    "        df = pd.read_csv(path, names = ['Name', 'Gender', 'Quantity'])\n",
    "        df['Year'] = int(year)\n",
    "        df_sorted = df.sort_values('Quantity', ascending = False)        \n",
    "        top3_year = list(df_sorted[:3]['Name'])\n",
    "        print(f'top3 of year {year}:' , top3_year)        \n",
    "        df_res = pd.concat([df_res, df])\n",
    "\n",
    "    df_res.reset_index(inplace = True)\n",
    "    df_by_name = df_res.groupby('Name').sum()\n",
    "    df_sorted = df_by_name.sort_values('Quantity', ascending = False)  \n",
    "    top3_years = df_sorted[:3].index\n",
    "    \n",
    "    \n",
    "    return list(top3_years)"
   ]
  },
  {
   "cell_type": "code",
   "execution_count": 22,
   "metadata": {},
   "outputs": [],
   "source": [
    "def dynamics(years):\n",
    "    \n",
    "    list_f = []    \n",
    "    list_m = []       \n",
    "   \n",
    "    for year in years:\n",
    "        path = 'names/yob{}.txt'.format(year)\n",
    "        df = pd.read_csv(path, names = ['Name', 'Gender', 'Quantity'])      \n",
    "        df_count = df.groupby('Gender').sum()    \n",
    "        list_f.append(df_count['Quantity'].loc['F'])\n",
    "        list_m.append(df_count['Quantity'].loc['M'])       \n",
    "    \n",
    "    df_dyn = pd.DataFrame({'F': list_f, 'M': list_m}) \n",
    "    \n",
    "    return df_dyn     \n",
    "    "
   ]
  },
  {
   "cell_type": "code",
   "execution_count": 23,
   "metadata": {},
   "outputs": [
    {
     "name": "stdout",
     "output_type": "stream",
     "text": [
      "Введите год(а) через запятую: 1900,1950,2000\n",
      "top3 of year 1900: ['Mary', 'John', 'William']\n",
      "top3 of year 1950: ['James', 'Robert', 'Linda']\n",
      "top3 of year 2000: ['Jacob', 'Michael', 'Matthew']\n",
      "\n",
      "top 3 of years ['1900', '1950', '2000']: ['James', 'John', 'Robert']\n",
      "\n",
      "dynamics of names quantity by years ['1900', '1950', '2000']:\n",
      "         F        M\n",
      "0   299798   150480\n",
      "1  1713065  1790437\n",
      "2  1815295  1963202\n"
     ]
    }
   ],
   "source": [
    "if __name__ == '__main__':\n",
    "    years_input = input('Введите год(а) через запятую: ').split(sep = ',')\n",
    "    \n",
    "    print(f'\\ntop 3 of years {years_input}: {count_top3(years_input)}')\n",
    "    print(f'\\ndynamics of names quantity by years {years_input}:\\n{dynamics(years_input)}')\n",
    "    "
   ]
  },
  {
   "cell_type": "code",
   "execution_count": null,
   "metadata": {},
   "outputs": [],
   "source": []
  }
 ],
 "metadata": {
  "kernelspec": {
   "display_name": "Python 3",
   "language": "python",
   "name": "python3"
  },
  "language_info": {
   "codemirror_mode": {
    "name": "ipython",
    "version": 3
   },
   "file_extension": ".py",
   "mimetype": "text/x-python",
   "name": "python",
   "nbconvert_exporter": "python",
   "pygments_lexer": "ipython3",
   "version": "3.7.3"
  }
 },
 "nbformat": 4,
 "nbformat_minor": 2
}
